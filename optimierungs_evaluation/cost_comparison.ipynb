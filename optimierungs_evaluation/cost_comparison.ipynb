{
 "cells": [
  {
   "cell_type": "markdown",
   "metadata": {},
   "source": [
    "# Comparison of results with and without optimization\n",
    "- We compare costs, not full load hours. \n",
    "- We start with total costs first.\n",
    "- We ignore transportation costs (as these are not part of the optimization).\n",
    "\n",
    "## Data import and preparation"
   ]
  },
  {
   "cell_type": "code",
   "execution_count": null,
   "metadata": {},
   "outputs": [],
   "source": [
    "# import libraries:\n",
    "\n",
    "import plotly.express as px\n",
    "\n",
    "import plotly.graph_objects as go\n",
    "import pandas as pd\n",
    "\n",
    "import ipywidgets as widgets\n",
    "\n",
    "from IPython.display import display\n",
    "\n",
    "import numpy as np\n",
    "\n",
    "\n",
    "# import data from csv file:\n",
    "df = pd.read_csv(\"cost_comparison.csv\")\n",
    "print(f\"imported {len(df)} rows from csv.\")\n",
    "\n",
    "# remove reconversion chains:\n",
    "# ind = ~df[\"chain\"].str.contains(\"reconv. to H2\")\n",
    "# df = df.loc[ind]\n",
    "\n",
    "# determine final product and electrolyzer type:\n",
    "df[[\"final_product\", \"electrolyzer\"]] = (\n",
    "    df[\"chain\"].str.strip(\")\").str.split(\" \\(\", expand=True)\n",
    ")\n",
    "\n",
    "# remove subregions:\n",
    "df = df.loc[~df[\"region\"].str.endswith(\")\")]\n",
    "\n",
    "# remove columns where all entries are identical:\n",
    "for c in df.columns:\n",
    "    if len(df[c].unique()) == 1:\n",
    "        df = df.drop(c, axis=1)\n",
    "\n",
    "print(f\"After removing subregions,  {len(df)} rows remain.\")\n",
    "\n",
    "# aggregate over process types:\n",
    "df_total = (\n",
    "    df[\n",
    "        [\n",
    "            \"scenario\",\n",
    "            \"chain\",\n",
    "            \"final_product\",\n",
    "            \"electrolyzer\",\n",
    "            \"res_gen\",\n",
    "            \"region\",\n",
    "            \"value_not_optimized\",\n",
    "            \"value_optimized\",\n",
    "        ]\n",
    "    ]\n",
    "    .groupby(\n",
    "        [\"scenario\", \"chain\", \"final_product\", \"electrolyzer\", \"res_gen\", \"region\"]\n",
    "    )\n",
    "    .sum()\n",
    "    .reset_index()\n",
    ")\n",
    "\n",
    "\n",
    "print(f\"After aggregating over cost categories, {len(df_total)} rows remain. \")\n",
    "\n",
    "# calculating cost differences:\n",
    "df_total[\"diff_abs\"] = df_total[\"value_optimized\"] - df_total[\"value_not_optimized\"]\n",
    "df_total[\"diff_rel\"] = df_total[\"diff_abs\"] / df_total[\"value_not_optimized\"]\n",
    "\n",
    "\n",
    "df_total.head()"
   ]
  },
  {
   "cell_type": "code",
   "execution_count": null,
   "metadata": {},
   "outputs": [],
   "source": [
    "df[\"chain\"].unique()"
   ]
  },
  {
   "cell_type": "markdown",
   "metadata": {},
   "source": [
    "## Problem: Wind Offshore  and Wind Onshore in Jordan:\n",
    "- Costs for Wind Offshore in Jordan is up to 350% higher than without optimization.\n",
    "- Costs for Wind Onshore in Jordan are significantly lower than without optimization\n",
    "- We remove these datapoints now and check on them later "
   ]
  },
  {
   "cell_type": "code",
   "execution_count": null,
   "metadata": {},
   "outputs": [],
   "source": [
    "# drop Jordan:\n",
    "ind1 = df_total[\"region\"] == \"Jordan\"\n",
    "ind2 = df_total[\"res_gen\"] == \"Wind Offshore\"\n",
    "ind3 = df_total[\"res_gen\"] == \"Wind Onshore\"\n",
    "df_total_without_jordan = df_total.loc[~((ind1 & ind2) | (ind1 & ind3))]"
   ]
  },
  {
   "cell_type": "markdown",
   "metadata": {},
   "source": [
    "## Problem with chains that include reconversion to H2\n",
    "- TODO"
   ]
  },
  {
   "cell_type": "markdown",
   "metadata": {},
   "source": [
    "We  create a function for plotting distribution of differences as box plots:"
   ]
  },
  {
   "cell_type": "code",
   "execution_count": null,
   "metadata": {},
   "outputs": [],
   "source": [
    "def create_boxbplot(df: pd.DataFrame, y: str, x: str = \"diff_rel\"):\n",
    "    df_plot = df.copy()\n",
    "    medians = df_plot.groupby(y)[x].median()\n",
    "    df_plot[\"median\"] = np.where(\n",
    "        df_plot[y].map(medians) > 0, \"cost increase\", \"cost decrease\"\n",
    "    )\n",
    "\n",
    "    df_plot = df_plot.sort_values(\"median\", ascending=False)\n",
    "\n",
    "    height = len(df_plot[y].unique()) * 75 + 100\n",
    "\n",
    "    y_order = medians.sort_values(ascending=False).index.tolist()\n",
    "\n",
    "    # fig = px.box(\n",
    "    #     df_plot,\n",
    "    #     x=x,\n",
    "    #     y=y,\n",
    "    #     color=\"median\",\n",
    "    #     hover_data=df_plot.columns.tolist(), height=height,\n",
    "    #     category_orders={y:y_order},\n",
    "    #     # points=\"all\"\n",
    "    # )\n",
    "\n",
    "    fig = px.violin(\n",
    "        df_plot,\n",
    "        x=x,\n",
    "        y=y,\n",
    "        color=\"median\",\n",
    "        hover_data=df_plot.columns.tolist(),\n",
    "        height=height,\n",
    "        category_orders={y: y_order},\n",
    "        box=True,\n",
    "        # points=\"all\"\n",
    "    )\n",
    "\n",
    "    fig.show()"
   ]
  },
  {
   "cell_type": "markdown",
   "metadata": {},
   "source": [
    "## Data scenario:\n",
    "- picture looks very similar across scenarios, so we can focus on one of them first\n",
    "- overall: optimization leads to cost decrease\n",
    "- effect is strongest in **low** scenarios. Why is that? Maybe lower storage costs?"
   ]
  },
  {
   "cell_type": "code",
   "execution_count": null,
   "metadata": {},
   "outputs": [],
   "source": [
    "fig = create_boxbplot(df_total, \"scenario\")\n",
    "fig = create_boxbplot(df_total_without_jordan, \"scenario\")"
   ]
  },
  {
   "cell_type": "markdown",
   "metadata": {},
   "source": [
    "## RE source:\n",
    "- PV: lower costs\n",
    "- Wind: slightly lower costs\n",
    "- Hybrid: higher costs\n",
    "- check: extreme outliers with wind offshore (cost increase 350%)"
   ]
  },
  {
   "cell_type": "code",
   "execution_count": null,
   "metadata": {},
   "outputs": [],
   "source": [
    "fig = create_boxbplot(df_total, \"res_gen\")\n",
    "fig = create_boxbplot(df_total_without_jordan, \"res_gen\")"
   ]
  },
  {
   "cell_type": "markdown",
   "metadata": {},
   "source": [
    "## Process chain:\n",
    "- check: aha, the outliers all seem to be in jordan, Wind Offshore.\n",
    "- why these strong cost decreases for chains with reconversion? Reconversion is not part of the optimization, there should be no differences at all!"
   ]
  },
  {
   "cell_type": "code",
   "execution_count": null,
   "metadata": {},
   "outputs": [],
   "source": [
    "fig = create_boxbplot(df_total, y=\"chain\")\n",
    "fig = create_boxbplot(df_total_without_jordan, y=\"chain\")"
   ]
  },
  {
   "cell_type": "markdown",
   "metadata": {},
   "source": [
    "## Final product"
   ]
  },
  {
   "cell_type": "code",
   "execution_count": null,
   "metadata": {},
   "outputs": [],
   "source": [
    "fig = create_boxbplot(df_total, y=\"final_product\")\n",
    "fig = create_boxbplot(df_total_without_jordan, y=\"final_product\")"
   ]
  },
  {
   "cell_type": "markdown",
   "metadata": {},
   "source": [
    "## Electrolyzer type:"
   ]
  },
  {
   "cell_type": "code",
   "execution_count": null,
   "metadata": {},
   "outputs": [],
   "source": [
    "fig = create_boxbplot(df_total, y=\"electrolyzer\")\n",
    "fig = create_boxbplot(df_total_without_jordan, y=\"electrolyzer\")"
   ]
  },
  {
   "cell_type": "markdown",
   "metadata": {},
   "source": [
    "## Differences by region:\n",
    "- no clear picture here. For the most regions, there is a surprisingly wide spread. \n",
    "- outlieres towards high cost increases seem to be almost always hybrid sites\n",
    "- maybe we should redo this plot for each res-gen type separately. "
   ]
  },
  {
   "cell_type": "code",
   "execution_count": null,
   "metadata": {},
   "outputs": [],
   "source": [
    "# fig = create_boxbplot(df_total, y=\"region\")\n",
    "fig = create_boxbplot(df_total_without_jordan, y=\"region\")"
   ]
  },
  {
   "cell_type": "code",
   "execution_count": null,
   "metadata": {},
   "outputs": [],
   "source": [
    "df_hybrid = df_total_without_jordan.loc[\n",
    "    df_total_without_jordan[\"res_gen\"] == \"Wind-PV-Hybrid\"\n",
    "]\n",
    "create_boxbplot(df_hybrid, y=\"region\")"
   ]
  },
  {
   "cell_type": "code",
   "execution_count": null,
   "metadata": {},
   "outputs": [],
   "source": [
    "df_hybrid = df_total_without_jordan.loc[\n",
    "    df_total_without_jordan[\"res_gen\"] == \"PV tilted\"\n",
    "]\n",
    "create_boxbplot(df_hybrid, y=\"region\")"
   ]
  },
  {
   "cell_type": "code",
   "execution_count": null,
   "metadata": {},
   "outputs": [],
   "source": [
    "df_total[\"res_gen\"].unique()"
   ]
  }
 ],
 "metadata": {
  "kernelspec": {
   "display_name": ".env",
   "language": "python",
   "name": "python3"
  },
  "language_info": {
   "codemirror_mode": {
    "name": "ipython",
    "version": 3
   },
   "file_extension": ".py",
   "mimetype": "text/x-python",
   "name": "python",
   "nbconvert_exporter": "python",
   "pygments_lexer": "ipython3",
   "version": "3.11.5"
  }
 },
 "nbformat": 4,
 "nbformat_minor": 2
}
