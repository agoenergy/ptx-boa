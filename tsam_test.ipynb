{
 "cells": [
  {
   "cell_type": "markdown",
   "metadata": {},
   "source": [
    "## testing aggregation of time series with tsam\n",
    "- docs: https://tsam.readthedocs.io/en/latest/index.html\n",
    "- example notebooks on github: \n",
    "  - https://github.com/FZJ-IEK3-VSA/tsam/blob/master/examples/aggregation_example.ipynb\n",
    "  - https://github.com/FZJ-IEK3-VSA/tsam/blob/master/examples/aggregation_optiinput.ipynb\n",
    "\n",
    "  "
   ]
  },
  {
   "cell_type": "code",
   "execution_count": null,
   "metadata": {},
   "outputs": [],
   "source": [
    "import pandas as pd\n",
    "import tsam.timeseriesaggregation as tsam\n",
    "import plotly.express as px"
   ]
  },
  {
   "cell_type": "markdown",
   "metadata": {},
   "source": [
    "using PV, Wind Onshore and wind offshore profiles as an example (8760h):"
   ]
  },
  {
   "cell_type": "code",
   "execution_count": null,
   "metadata": {},
   "outputs": [],
   "source": [
    "raw = pd.read_csv(\"tsam_test_profiles.csv\", index_col=0)\n",
    "raw.plot(subplots=True)"
   ]
  },
  {
   "cell_type": "markdown",
   "metadata": {},
   "source": [
    "create an aggregation instance and define the settings:\n",
    "\n",
    "- Most important, define the number of periods, and the duration of each period. \n",
    "- TODO: I do not yet understand the other settings (cluster method, representation method)"
   ]
  },
  {
   "cell_type": "code",
   "execution_count": null,
   "metadata": {},
   "outputs": [],
   "source": [
    "aggregation = tsam.TimeSeriesAggregation(\n",
    "    raw,\n",
    "    noTypicalPeriods=4,\n",
    "    hoursPerPeriod=24 * 7,\n",
    "    representationMethod=\"distributionAndMinMaxRepresentation\",\n",
    "    distributionPeriodWise=False,\n",
    "    clusterMethod=\"hierarchical\",\n",
    ")"
   ]
  },
  {
   "cell_type": "markdown",
   "metadata": {},
   "source": [
    "perform the aggregation (i.e. define characteristical periods):"
   ]
  },
  {
   "cell_type": "code",
   "execution_count": null,
   "metadata": {},
   "outputs": [],
   "source": [
    "typPeriods = aggregation.createTypicalPeriods()"
   ]
  },
  {
   "cell_type": "markdown",
   "metadata": {},
   "source": [
    "plot the resulting time series:\n"
   ]
  },
  {
   "cell_type": "code",
   "execution_count": null,
   "metadata": {},
   "outputs": [],
   "source": [
    "df = typPeriods.reset_index().melt(id_vars=[\"level_0\", \"TimeStep\"], var_name=\"RES\")\n",
    "df.head()\n",
    "px.line(df, x=\"TimeStep\", y=\"value\", facet_col=\"level_0\", facet_row=\"RES\")"
   ]
  },
  {
   "cell_type": "markdown",
   "metadata": {},
   "source": [
    "You can check how often a certain period appears (this can be used as weighting factor in the objective function of the optimization problem):"
   ]
  },
  {
   "cell_type": "code",
   "execution_count": null,
   "metadata": {},
   "outputs": [],
   "source": [
    "occurence = aggregation.clusterPeriodNoOccur\n",
    "\n",
    "ax = pd.Series(occurence).plot(kind=\"bar\")\n",
    "ax.set(ylabel=\"Number of occurence\", xlabel=\"Period index\")\n",
    "print(pd.Series(occurence).sum())"
   ]
  },
  {
   "cell_type": "markdown",
   "metadata": {},
   "source": [
    "You can also check the order of apparance:"
   ]
  },
  {
   "cell_type": "code",
   "execution_count": null,
   "metadata": {},
   "outputs": [],
   "source": [
    "df = pd.Series(aggregation.clusterOrder) + 1\n",
    "df.plot(kind=\"bar\")"
   ]
  },
  {
   "cell_type": "markdown",
   "metadata": {},
   "source": [
    "and you can get a mapping of new and original index: "
   ]
  },
  {
   "cell_type": "code",
   "execution_count": null,
   "metadata": {},
   "outputs": [],
   "source": [
    "indexMatching = aggregation.indexMatching()\n",
    "\n",
    "indexMatching.head(24)"
   ]
  },
  {
   "cell_type": "markdown",
   "metadata": {},
   "source": [
    "## TODOS for modeling: \n",
    "- create test model\n",
    "- implemente weights of time steps according to how often a period occurs\n",
    "- create extra condition to enable short term storage inside periods\n",
    "  - good: SOC in first and last time step must be identical (requires new equation)\n",
    "  - easy: set SOC to fixed (and identical) value in first and last time step\n",
    "- find metrics for quality of representation \n",
    "- run model with different tsam settings to find a good balance between good representation and fast solve times"
   ]
  }
 ],
 "metadata": {
  "kernelspec": {
   "display_name": "env",
   "language": "python",
   "name": "python3"
  },
  "language_info": {
   "codemirror_mode": {
    "name": "ipython",
    "version": 3
   },
   "file_extension": ".py",
   "mimetype": "text/x-python",
   "name": "python",
   "nbconvert_exporter": "python",
   "pygments_lexer": "ipython3",
   "version": "3.11.2"
  }
 },
 "nbformat": 4,
 "nbformat_minor": 2
}
