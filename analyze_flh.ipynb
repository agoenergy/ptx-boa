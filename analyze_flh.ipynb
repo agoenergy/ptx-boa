{
 "cells": [
  {
   "cell_type": "markdown",
   "metadata": {},
   "source": [
    "# Compare optimized flh with previous dataset\n",
    "- the previous dataset was extracted from the ptx atlas\n",
    "- Use ``collect_cached_optimization_results.py`` on server to collect optimization results for all settings\n",
    "- copy collected results like this:\n",
    "\n",
    "````\n",
    "scp ptxboa2:/home/ptxboa/ptx-boa_offline_optimization/optimization_cache/*.csv .\n",
    "````"
   ]
  },
  {
   "cell_type": "code",
   "execution_count": null,
   "metadata": {},
   "outputs": [],
   "source": [
    "import pandas as pd\n",
    "from ptxboa import DEFAULT_CACHE_DIR, DEFAULT_DATA_DIR\n",
    "from ptxboa.api import PtxboaAPI"
   ]
  },
  {
   "cell_type": "code",
   "execution_count": null,
   "metadata": {},
   "outputs": [],
   "source": [
    "api = PtxboaAPI(\n",
    "    data_dir=DEFAULT_DATA_DIR,\n",
    "    cache_dir=DEFAULT_CACHE_DIR,  # TODO: maybe disable in test environment?\n",
    ")"
   ]
  },
  {
   "cell_type": "code",
   "execution_count": null,
   "metadata": {},
   "outputs": [],
   "source": [
    "filename_old_data = \"ptxboa/data/flh.csv\"\n",
    "filename_new_data_main = (\n",
    "    \"optimization_results/cached_optimization_data_main_process_chain.csv\"\n",
    ")\n",
    "filename_new_data_secondary = (\n",
    "    \"optimization_results/cached_optimization_data_secondary_process.csv\"\n",
    ")\n",
    "filename_new_data_network = \"optimization_results/network_statistics.csv\""
   ]
  },
  {
   "cell_type": "code",
   "execution_count": null,
   "metadata": {},
   "outputs": [],
   "source": [
    "flh_old_raw = pd.read_csv(filename_old_data, index_col=1)\n",
    "flh_new_main = pd.read_csv(filename_new_data_main)\n",
    "flh_new_secondary = pd.read_csv(filename_new_data_secondary)\n",
    "flh_new_network = pd.read_csv(filename_new_data_network)"
   ]
  },
  {
   "cell_type": "code",
   "execution_count": null,
   "metadata": {},
   "outputs": [],
   "source": [
    "flh_old_raw"
   ]
  },
  {
   "cell_type": "code",
   "execution_count": null,
   "metadata": {},
   "outputs": [],
   "source": [
    "# add long names to old flh data:\n",
    "\n",
    "\n",
    "api.get_dimension(\"res_gen\")\n",
    "\n",
    "flh_old = (\n",
    "    flh_old_raw.merge(\n",
    "        api.get_dimension(\"process\")[[\"process_code\", \"process_name\"]],\n",
    "        left_on=\"process_res\",\n",
    "        right_on=\"process_code\",\n",
    "        how=\"left\",\n",
    "    )\n",
    "    .drop(\"process_code\", axis=1)\n",
    "    .rename({\"process_name\": \"process_name_res\"}, axis=1)\n",
    ")\n",
    "\n",
    "flh_old = (\n",
    "    flh_old.merge(\n",
    "        api.get_dimension(\"process\")[[\"process_code\", \"process_name\"]],\n",
    "        left_on=\"process_ely\",\n",
    "        right_on=\"process_code\",\n",
    "        how=\"left\",\n",
    "    )\n",
    "    .drop(\"process_code\", axis=1)\n",
    "    .rename({\"process_name\": \"process_name_ely\"}, axis=1)\n",
    ")\n",
    "\n",
    "flh_old = (\n",
    "    flh_old.merge(\n",
    "        api.get_dimension(\"process\")[[\"process_code\", \"process_name\"]],\n",
    "        left_on=\"process_deriv\",\n",
    "        right_on=\"process_code\",\n",
    "        how=\"left\",\n",
    "    )\n",
    "    .drop(\"process_code\", axis=1)\n",
    "    .rename({\"process_name\": \"process_name_deriv\"}, axis=1)\n",
    ")\n",
    "\n",
    "flh_old[\"source_region_code\"] = flh_old[\"key\"].str.split(\",\", n=1).str.get(0)\n",
    "flh_old = flh_old.rename({\"process_flh\": \"process_code\"}, axis=1)\n",
    "flh_old"
   ]
  },
  {
   "cell_type": "code",
   "execution_count": null,
   "metadata": {},
   "outputs": [],
   "source": [
    "flh_new_secondary.columns\n",
    "flh_new_main.columns\n",
    "flh_old.columns"
   ]
  },
  {
   "cell_type": "code",
   "execution_count": null,
   "metadata": {},
   "outputs": [],
   "source": [
    "flh_all = pd.merge(\n",
    "    flh_new_main,\n",
    "    flh_new_secondary[[\"optimization_hash\", \"chain\", \"res_gen\", \"scenario\"]],\n",
    "    on=\"optimization_hash\",\n",
    "    how=\"left\",\n",
    ")\n",
    "\n",
    "chain_info = api.get_dimension(\"chain\")[[\"chain\", \"ELY\", \"DERIV\"]].rename(\n",
    "    {\"ELY\": \"process_ely\", \"DERIV\": \"process_deriv\"}, axis=1\n",
    ")\n",
    "\n",
    "flh_all = flh_all.merge(chain_info, on=\"chain\", how=\"left\")\n",
    "\n",
    "flh_all"
   ]
  },
  {
   "cell_type": "code",
   "execution_count": null,
   "metadata": {},
   "outputs": [],
   "source": [
    "flh_all = flh_all.merge(\n",
    "    flh_old,\n",
    "    on=[\"source_region_code\", \"process_code\", \"process_ely\", \"process_deriv\"],\n",
    "    how=\"left\",\n",
    ")"
   ]
  },
  {
   "cell_type": "code",
   "execution_count": null,
   "metadata": {},
   "outputs": [],
   "source": [
    "flh_all.to_csv(\"testfile.csv\")"
   ]
  }
 ],
 "metadata": {
  "kernelspec": {
   "display_name": ".env",
   "language": "python",
   "name": "python3"
  },
  "language_info": {
   "codemirror_mode": {
    "name": "ipython",
    "version": 3
   },
   "file_extension": ".py",
   "mimetype": "text/x-python",
   "name": "python",
   "nbconvert_exporter": "python",
   "pygments_lexer": "ipython3",
   "version": "3.11.5"
  }
 },
 "nbformat": 4,
 "nbformat_minor": 2
}
